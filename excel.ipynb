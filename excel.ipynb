{
 "cells": [
  {
   "cell_type": "code",
   "execution_count": null,
   "metadata": {},
   "outputs": [],
   "source": [
    "import pandas as pd\n",
    "import io\n",
    "\n",
    "# Dataset 1: Customer Information\n",
    "customer_info_csv = \"\"\"Customer ID,First Name,Last Name,Address,Age,Gender\n",
    "001,John,Smith,123 Main St,32,Male\n",
    "002,Sarah,Johnson,456 Elm St,45,Female\n",
    "003,David,Lee,789 Oak Ave,26,Male\n",
    "004,Emily,Chen,321 Maple St,38,Female\n",
    "005,Michael,Brown,654 Pine St,50,Male\"\"\"\n",
    "\n",
    "# Convert Dataset 1 to Excel\n",
    "customer_info_df = pd.read_csv(io.StringIO(customer_info_csv))\n",
    "customer_info_excel_file = \"customer_info.xlsx\"\n",
    "customer_info_df.to_excel(customer_info_excel_file, index=False)\n",
    "\n",
    "# Dataset 2: Transactional Data\n",
    "transactional_data_csv = \"\"\"Customer ID,Date,Product Type,Price\n",
    "001,2022-01-01,Shoes,59.99\n",
    "002,2022-01-03,Clothing,89.99\n",
    "003,2022-01-05,Accessories,24.99\n",
    "004,2022-01-08,Shoes,69.99\n",
    "005,2022-01-10,Clothing,99.99\"\"\"\n",
    "\n",
    "# Convert Dataset 2 to Excel\n",
    "transactional_data_df = pd.read_csv(io.StringIO(transactional_data_csv))\n",
    "transactional_data_excel_file = \"transactional_data.xlsx\"\n",
    "transactional_data_df.to_excel(transactional_data_excel_file, index=False)\n"
   ]
  }
 ],
 "metadata": {
  "language_info": {
   "name": "python"
  },
  "orig_nbformat": 4
 },
 "nbformat": 4,
 "nbformat_minor": 2
}
